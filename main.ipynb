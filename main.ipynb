So, Our team's mission is to use data to identify Pittsburgh's top neighborhoods.
After extensive discussions, our group decided to select these three key points: 
pittsburgh's parks, pittsburgh's pools, and pittsburgh's traffic, to comprehensively evaluate the community. 


The dataset can be found here: https://data.wprdc.org/dataset/traffic-count-data-city-of-pittsburghFor combining individual notebooks
